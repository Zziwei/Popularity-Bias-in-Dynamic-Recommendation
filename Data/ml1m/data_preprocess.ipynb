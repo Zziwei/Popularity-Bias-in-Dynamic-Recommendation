{
 "cells": [
  {
   "cell_type": "code",
   "execution_count": 1,
   "metadata": {},
   "outputs": [
    {
     "data": {
      "text/html": [
       "<style>.container { width:90% !important; }</style>"
      ],
      "text/plain": [
       "<IPython.core.display.HTML object>"
      ]
     },
     "metadata": {},
     "output_type": "display_data"
    }
   ],
   "source": [
    "import pandas as pd\n",
    "import numpy as np\n",
    "import pickle\n",
    "import copy\n",
    "import operator\n",
    "from tqdm import tqdm\n",
    "from scipy.sparse import coo_matrix\n",
    "from IPython.core.display import display, HTML\n",
    "import implicit\n",
    "display(HTML(\"<style>.container { width:90% !important; }</style>\"))"
   ]
  },
  {
   "cell_type": "code",
   "execution_count": 2,
   "metadata": {},
   "outputs": [
    {
     "name": "stderr",
     "output_type": "stream",
     "text": [
      "/home/zhuziwei/.local/lib/python3.6/site-packages/ipykernel_launcher.py:1: ParserWarning: Falling back to the 'python' engine because the 'c' engine does not support regex separators (separators > 1 char and different from '\\s+' are interpreted as regex); you can avoid this warning by specifying engine='python'.\n",
      "  \"\"\"Entry point for launching an IPython kernel.\n"
     ]
    },
    {
     "data": {
      "text/html": [
       "<div>\n",
       "<style scoped>\n",
       "    .dataframe tbody tr th:only-of-type {\n",
       "        vertical-align: middle;\n",
       "    }\n",
       "\n",
       "    .dataframe tbody tr th {\n",
       "        vertical-align: top;\n",
       "    }\n",
       "\n",
       "    .dataframe thead th {\n",
       "        text-align: right;\n",
       "    }\n",
       "</style>\n",
       "<table border=\"1\" class=\"dataframe\">\n",
       "  <thead>\n",
       "    <tr style=\"text-align: right;\">\n",
       "      <th></th>\n",
       "      <th>uid</th>\n",
       "      <th>iid</th>\n",
       "    </tr>\n",
       "  </thead>\n",
       "  <tbody>\n",
       "    <tr>\n",
       "      <th>0</th>\n",
       "      <td>1</td>\n",
       "      <td>1193</td>\n",
       "    </tr>\n",
       "    <tr>\n",
       "      <th>1</th>\n",
       "      <td>1</td>\n",
       "      <td>661</td>\n",
       "    </tr>\n",
       "  </tbody>\n",
       "</table>\n",
       "</div>"
      ],
      "text/plain": [
       "   uid   iid\n",
       "0    1  1193\n",
       "1    1   661"
      ]
     },
     "execution_count": 2,
     "metadata": {},
     "output_type": "execute_result"
    }
   ],
   "source": [
    "df = pd.read_csv('./ratings.dat', sep='::', names=[\"uid\", \"iid\", \"rating\", \"timestamp\"])\n",
    "df.drop(columns=['timestamp', 'rating'], inplace=True)\n",
    "df.head(2)"
   ]
  },
  {
   "cell_type": "code",
   "execution_count": 3,
   "metadata": {},
   "outputs": [
    {
     "name": "stderr",
     "output_type": "stream",
     "text": [
      "/home/zhuziwei/.local/lib/python3.6/site-packages/ipykernel_launcher.py:1: ParserWarning: Falling back to the 'python' engine because the 'c' engine does not support regex separators (separators > 1 char and different from '\\s+' are interpreted as regex); you can avoid this warning by specifying engine='python'.\n",
      "  \"\"\"Entry point for launching an IPython kernel.\n"
     ]
    },
    {
     "data": {
      "text/html": [
       "<div>\n",
       "<style scoped>\n",
       "    .dataframe tbody tr th:only-of-type {\n",
       "        vertical-align: middle;\n",
       "    }\n",
       "\n",
       "    .dataframe tbody tr th {\n",
       "        vertical-align: top;\n",
       "    }\n",
       "\n",
       "    .dataframe thead th {\n",
       "        text-align: right;\n",
       "    }\n",
       "</style>\n",
       "<table border=\"1\" class=\"dataframe\">\n",
       "  <thead>\n",
       "    <tr style=\"text-align: right;\">\n",
       "      <th></th>\n",
       "      <th>iid</th>\n",
       "      <th>title</th>\n",
       "      <th>genres</th>\n",
       "    </tr>\n",
       "  </thead>\n",
       "  <tbody>\n",
       "    <tr>\n",
       "      <th>0</th>\n",
       "      <td>1</td>\n",
       "      <td>Toy Story (1995)</td>\n",
       "      <td>Animation|Children's|Comedy</td>\n",
       "    </tr>\n",
       "    <tr>\n",
       "      <th>1</th>\n",
       "      <td>2</td>\n",
       "      <td>Jumanji (1995)</td>\n",
       "      <td>Adventure|Children's|Fantasy</td>\n",
       "    </tr>\n",
       "  </tbody>\n",
       "</table>\n",
       "</div>"
      ],
      "text/plain": [
       "   iid             title                        genres\n",
       "0    1  Toy Story (1995)   Animation|Children's|Comedy\n",
       "1    2    Jumanji (1995)  Adventure|Children's|Fantasy"
      ]
     },
     "execution_count": 3,
     "metadata": {},
     "output_type": "execute_result"
    }
   ],
   "source": [
    "item_df = pd.read_csv('./movies.dat', sep='::', names=[\"iid\", \"title\", \"genres\"])\n",
    "item_df.head(2)"
   ]
  },
  {
   "cell_type": "code",
   "execution_count": 4,
   "metadata": {},
   "outputs": [
    {
     "data": {
      "text/plain": [
       "[('Drama', 1603),\n",
       " ('Comedy', 1200),\n",
       " ('Action', 503),\n",
       " ('Thriller', 492),\n",
       " ('Romance', 471),\n",
       " ('Horror', 343),\n",
       " ('Adventure', 283),\n",
       " ('Sci-Fi', 276),\n",
       " (\"Children's\", 251),\n",
       " ('Crime', 211),\n",
       " ('War', 143),\n",
       " ('Documentary', 127),\n",
       " ('Musical', 114),\n",
       " ('Mystery', 106),\n",
       " ('Animation', 105),\n",
       " ('Fantasy', 68),\n",
       " ('Western', 68),\n",
       " ('Film-Noir', 44)]"
      ]
     },
     "execution_count": 4,
     "metadata": {},
     "output_type": "execute_result"
    }
   ],
   "source": [
    "# count the number for each genre and sort\n",
    "item_genre_dict = dict()\n",
    "for i in range(len(item_df)):\n",
    "    genre_str = item_df.at[i, 'genres']\n",
    "    genre_list = genre_str.split('|')\n",
    "    item_genre_dict[item_df.at[i, 'iid']] = genre_list\n",
    "\n",
    "genre_item_count = dict()\n",
    "for l in item_genre_dict:\n",
    "    for g in item_genre_dict[l]:\n",
    "        if not g in genre_item_count:\n",
    "            genre_item_count[g] = 1\n",
    "        else:\n",
    "            genre_item_count[g] += 1\n",
    "\n",
    "genre_count_sorted = sorted(genre_item_count.items(), key=operator.itemgetter(1), reverse=True)\n",
    "genre_count_sorted"
   ]
  },
  {
   "cell_type": "code",
   "execution_count": 5,
   "metadata": {},
   "outputs": [
    {
     "data": {
      "text/plain": [
       "[('Sci-Fi', 569.9057971014493),\n",
       " ('Fantasy', 533.8382352941177),\n",
       " ('Action', 511.8429423459244),\n",
       " ('War', 479.2097902097902),\n",
       " ('Adventure', 473.3321554770318),\n",
       " ('Film-Noir', 415.02272727272725),\n",
       " ('Animation', 412.3142857142857),\n",
       " ('Thriller', 385.5284552845528),\n",
       " ('Mystery', 379.0377358490566),\n",
       " ('Crime', 376.97156398104266),\n",
       " ('Musical', 364.32456140350877),\n",
       " ('Romance', 313.2123142250531),\n",
       " ('Western', 304.1617647058824),\n",
       " ('Comedy', 297.15),\n",
       " (\"Children's\", 287.59362549800795),\n",
       " ('Horror', 222.6997084548105),\n",
       " ('Drama', 221.16593886462883),\n",
       " ('Documentary', 62.28346456692913)]"
      ]
     },
     "execution_count": 5,
     "metadata": {},
     "output_type": "execute_result"
    }
   ],
   "source": [
    "# calculate feedback/item_count for each genre\n",
    "genre_rating_count = dict()\n",
    "itemIds = df['iid'].values\n",
    "for i in range(len(itemIds)):\n",
    "    itemId = itemIds[i]\n",
    "    genres = item_genre_dict[itemId]\n",
    "    for g in genres:\n",
    "        if not g in genre_rating_count:\n",
    "            genre_rating_count[g] = 1.\n",
    "        else:\n",
    "            genre_rating_count[g] += 1.\n",
    "for g in genre_item_count:\n",
    "    genre_rating_count[g] /= genre_item_count[g] * 1.\n",
    "genre_count_sorted = sorted(genre_rating_count.items(), key=operator.itemgetter(1), reverse=True)\n",
    "genre_count_sorted"
   ]
  },
  {
   "cell_type": "code",
   "execution_count": 6,
   "metadata": {},
   "outputs": [],
   "source": [
    "genres_used = set(list(genre_rating_count.keys())) - {'(no genres listed)'}"
   ]
  },
  {
   "cell_type": "code",
   "execution_count": 7,
   "metadata": {},
   "outputs": [],
   "source": [
    "# filter items by genres\n",
    "delete_list = []\n",
    "for i in range(len(item_df)):\n",
    "    genre_str = item_df.at[i, 'genres']\n",
    "    genre_list = genre_str.split('|')\n",
    "    genre_overlap = genre_list\n",
    "    if genre_str == '(no genres listed)':\n",
    "        delete_list.append(i)\n",
    "item_df.drop(delete_list, inplace=True)\n",
    "keep_item_g = item_df['iid'].unique()\n",
    "item_df.reset_index(drop=True, inplace=True)"
   ]
  },
  {
   "cell_type": "code",
   "execution_count": 8,
   "metadata": {},
   "outputs": [],
   "source": [
    "# remove record for movies which do not have genres\n",
    "df = df[df['iid'].isin(keep_item_g)]\n",
    "df.reset_index(drop=True, inplace=True)"
   ]
  },
  {
   "cell_type": "code",
   "execution_count": 9,
   "metadata": {},
   "outputs": [
    {
     "name": "stdout",
     "output_type": "stream",
     "text": [
      "item num = 3706\n",
      "user num = 6040\n"
     ]
    }
   ],
   "source": [
    "item_set = set(df['iid'].unique())\n",
    "user_set = set(df['uid'].unique())\n",
    "print('item num = ' + str(len(item_set)))\n",
    "print('user num = ' + str(len(user_set)))"
   ]
  },
  {
   "cell_type": "code",
   "execution_count": 10,
   "metadata": {},
   "outputs": [
    {
     "data": {
      "text/plain": [
       "3883"
      ]
     },
     "execution_count": 10,
     "metadata": {},
     "output_type": "execute_result"
    }
   ],
   "source": [
    "len(item_df)"
   ]
  },
  {
   "cell_type": "code",
   "execution_count": 11,
   "metadata": {},
   "outputs": [],
   "source": [
    "rdf = copy.copy(df)"
   ]
  },
  {
   "cell_type": "code",
   "execution_count": 13,
   "metadata": {},
   "outputs": [],
   "source": [
    "keep_uid = np.random.choice(rdf['uid'].unique(), 1000, replace=False)"
   ]
  },
  {
   "cell_type": "code",
   "execution_count": 14,
   "metadata": {},
   "outputs": [],
   "source": [
    "rdf = rdf[rdf['uid'].isin(keep_uid)]\n",
    "rdf.reset_index(drop=True, inplace=True)"
   ]
  },
  {
   "cell_type": "code",
   "execution_count": 21,
   "metadata": {},
   "outputs": [
    {
     "name": "stdout",
     "output_type": "stream",
     "text": [
      "movie num = 3406\n",
      "user num = 1000\n",
      "sparsity: 0.04742160892542572\n"
     ]
    }
   ],
   "source": [
    "item_list = rdf['iid'].unique()\n",
    "user_list = rdf['uid'].unique()\n",
    "print('movie num = ' + str(len(item_list)))\n",
    "print('user num = ' + str(len(user_list)))\n",
    "print('sparsity: ' + str(len(rdf) * 1.0 / (len(user_list) * len(item_list))))"
   ]
  },
  {
   "cell_type": "code",
   "execution_count": 22,
   "metadata": {},
   "outputs": [],
   "source": [
    "#remove movies from item_df\n",
    "item_df = item_df[item_df['iid'].isin(item_list)]\n",
    "item_df.reset_index(drop=True, inplace=True)"
   ]
  },
  {
   "cell_type": "code",
   "execution_count": 23,
   "metadata": {},
   "outputs": [],
   "source": [
    "# get the user and item str id->int id dict\n",
    "i = 0\n",
    "user_old2new_id_dict = dict()\n",
    "for u in user_list:\n",
    "    if not u in user_old2new_id_dict:\n",
    "        user_old2new_id_dict[u] = i\n",
    "        i += 1\n",
    "j = 0\n",
    "item_old2new_id_dict = dict()\n",
    "for i in item_list:\n",
    "    if not i in item_old2new_id_dict:\n",
    "        item_old2new_id_dict[i] = j\n",
    "        j += 1"
   ]
  },
  {
   "cell_type": "code",
   "execution_count": 24,
   "metadata": {},
   "outputs": [],
   "source": [
    "# convert the str id of items in item_df to int id\n",
    "for i in range(len(item_df)):\n",
    "    item_df.at[i, 'iid'] = item_old2new_id_dict[item_df.at[i, 'iid']]"
   ]
  },
  {
   "cell_type": "code",
   "execution_count": 25,
   "metadata": {},
   "outputs": [],
   "source": [
    "# get rdf with int id for user and item\n",
    "userIds = rdf['uid'].values\n",
    "itemIds = rdf['iid'].values\n",
    "userIdsNew = copy.copy(userIds)\n",
    "itemIdsNew = copy.copy(itemIds)\n",
    "for i in range(len(userIds)):\n",
    "    userIdsNew[i] = user_old2new_id_dict[userIds[i]]\n",
    "    itemIdsNew[i] = item_old2new_id_dict[itemIds[i]]\n",
    "rdf['uid'] = userIdsNew\n",
    "rdf['iid'] = itemIdsNew\n",
    "item_list = rdf['iid'].unique()\n",
    "user_list = rdf['uid'].unique()"
   ]
  },
  {
   "cell_type": "code",
   "execution_count": 26,
   "metadata": {
    "scrolled": true
   },
   "outputs": [
    {
     "name": "stderr",
     "output_type": "stream",
     "text": [
      "/home/zhuziwei/.local/lib/python3.6/site-packages/tensorflow/python/framework/dtypes.py:516: FutureWarning: Passing (type, 1) or '1type' as a synonym of type is deprecated; in a future version of numpy, it will be understood as (type, (1,)) / '(1,)type'.\n",
      "  _np_qint8 = np.dtype([(\"qint8\", np.int8, 1)])\n",
      "/home/zhuziwei/.local/lib/python3.6/site-packages/tensorflow/python/framework/dtypes.py:517: FutureWarning: Passing (type, 1) or '1type' as a synonym of type is deprecated; in a future version of numpy, it will be understood as (type, (1,)) / '(1,)type'.\n",
      "  _np_quint8 = np.dtype([(\"quint8\", np.uint8, 1)])\n",
      "/home/zhuziwei/.local/lib/python3.6/site-packages/tensorflow/python/framework/dtypes.py:518: FutureWarning: Passing (type, 1) or '1type' as a synonym of type is deprecated; in a future version of numpy, it will be understood as (type, (1,)) / '(1,)type'.\n",
      "  _np_qint16 = np.dtype([(\"qint16\", np.int16, 1)])\n",
      "/home/zhuziwei/.local/lib/python3.6/site-packages/tensorflow/python/framework/dtypes.py:519: FutureWarning: Passing (type, 1) or '1type' as a synonym of type is deprecated; in a future version of numpy, it will be understood as (type, (1,)) / '(1,)type'.\n",
      "  _np_quint16 = np.dtype([(\"quint16\", np.uint16, 1)])\n",
      "/home/zhuziwei/.local/lib/python3.6/site-packages/tensorflow/python/framework/dtypes.py:520: FutureWarning: Passing (type, 1) or '1type' as a synonym of type is deprecated; in a future version of numpy, it will be understood as (type, (1,)) / '(1,)type'.\n",
      "  _np_qint32 = np.dtype([(\"qint32\", np.int32, 1)])\n",
      "/home/zhuziwei/.local/lib/python3.6/site-packages/tensorflow/python/framework/dtypes.py:525: FutureWarning: Passing (type, 1) or '1type' as a synonym of type is deprecated; in a future version of numpy, it will be understood as (type, (1,)) / '(1,)type'.\n",
      "  np_resource = np.dtype([(\"resource\", np.ubyte, 1)])\n",
      "/home/zhuziwei/.local/lib/python3.6/site-packages/tensorboard/compat/tensorflow_stub/dtypes.py:541: FutureWarning: Passing (type, 1) or '1type' as a synonym of type is deprecated; in a future version of numpy, it will be understood as (type, (1,)) / '(1,)type'.\n",
      "  _np_qint8 = np.dtype([(\"qint8\", np.int8, 1)])\n",
      "/home/zhuziwei/.local/lib/python3.6/site-packages/tensorboard/compat/tensorflow_stub/dtypes.py:542: FutureWarning: Passing (type, 1) or '1type' as a synonym of type is deprecated; in a future version of numpy, it will be understood as (type, (1,)) / '(1,)type'.\n",
      "  _np_quint8 = np.dtype([(\"quint8\", np.uint8, 1)])\n",
      "/home/zhuziwei/.local/lib/python3.6/site-packages/tensorboard/compat/tensorflow_stub/dtypes.py:543: FutureWarning: Passing (type, 1) or '1type' as a synonym of type is deprecated; in a future version of numpy, it will be understood as (type, (1,)) / '(1,)type'.\n",
      "  _np_qint16 = np.dtype([(\"qint16\", np.int16, 1)])\n",
      "/home/zhuziwei/.local/lib/python3.6/site-packages/tensorboard/compat/tensorflow_stub/dtypes.py:544: FutureWarning: Passing (type, 1) or '1type' as a synonym of type is deprecated; in a future version of numpy, it will be understood as (type, (1,)) / '(1,)type'.\n",
      "  _np_quint16 = np.dtype([(\"quint16\", np.uint16, 1)])\n",
      "/home/zhuziwei/.local/lib/python3.6/site-packages/tensorboard/compat/tensorflow_stub/dtypes.py:545: FutureWarning: Passing (type, 1) or '1type' as a synonym of type is deprecated; in a future version of numpy, it will be understood as (type, (1,)) / '(1,)type'.\n",
      "  _np_qint32 = np.dtype([(\"qint32\", np.int32, 1)])\n",
      "/home/zhuziwei/.local/lib/python3.6/site-packages/tensorboard/compat/tensorflow_stub/dtypes.py:550: FutureWarning: Passing (type, 1) or '1type' as a synonym of type is deprecated; in a future version of numpy, it will be understood as (type, (1,)) / '(1,)type'.\n",
      "  np_resource = np.dtype([(\"resource\", np.ubyte, 1)])\n"
     ]
    },
    {
     "name": "stdout",
     "output_type": "stream",
     "text": [
      "WARNING:tensorflow:From ../MF_CE.py:8: The name tf.set_random_seed is deprecated. Please use tf.compat.v1.set_random_seed instead.\n",
      "\n",
      "******************** MF_CE ********************\n",
      "WARNING:tensorflow:From ../MF_CE.py:41: The name tf.placeholder is deprecated. Please use tf.compat.v1.placeholder instead.\n",
      "\n",
      "WARNING:tensorflow:From ../MF_CE.py:45: The name tf.variable_scope is deprecated. Please use tf.compat.v1.variable_scope instead.\n",
      "\n",
      "WARNING:tensorflow:From ../MF_CE.py:45: The name tf.AUTO_REUSE is deprecated. Please use tf.compat.v1.AUTO_REUSE instead.\n",
      "\n",
      "WARNING:tensorflow:From ../MF_CE.py:46: The name tf.get_variable is deprecated. Please use tf.compat.v1.get_variable instead.\n",
      "\n",
      "WARNING:tensorflow:From ../MF_CE.py:67: The name tf.train.AdamOptimizer is deprecated. Please use tf.compat.v1.train.AdamOptimizer instead.\n",
      "\n",
      "WARNING:tensorflow:From /home/zhuziwei/.local/lib/python3.6/site-packages/tensorflow/python/ops/math_grad.py:1250: add_dispatch_support.<locals>.wrapper (from tensorflow.python.ops.array_ops) is deprecated and will be removed in a future version.\n",
      "Instructions for updating:\n",
      "Use tf.where in 2.0, which has the same broadcast rule as np.where\n",
      "********************* MF_CE Initialization Done *********************\n"
     ]
    },
    {
     "name": "stderr",
     "output_type": "stream",
     "text": [
      " 16%|█▋        | 15/91 [00:00<00:00, 144.92it/s]"
     ]
    },
    {
     "name": "stdout",
     "output_type": "stream",
     "text": [
      "negative Sampling time : 44 ms\n"
     ]
    },
    {
     "name": "stderr",
     "output_type": "stream",
     "text": [
      "100%|██████████| 91/91 [00:00<00:00, 264.45it/s]\n",
      " 33%|███▎      | 30/91 [00:00<00:00, 292.82it/s]"
     ]
    },
    {
     "name": "stdout",
     "output_type": "stream",
     "text": [
      "Training // Epoch 1 //  Total cost = 62.59642 negative Sampling time : 44 ms negative samples : 875335\n",
      "negative Sampling time : 46 ms\n"
     ]
    },
    {
     "name": "stderr",
     "output_type": "stream",
     "text": [
      "100%|██████████| 91/91 [00:00<00:00, 298.78it/s]\n",
      " 34%|███▍      | 31/91 [00:00<00:00, 302.50it/s]"
     ]
    },
    {
     "name": "stdout",
     "output_type": "stream",
     "text": [
      "Training // Epoch 2 //  Total cost = 46.88905 negative Sampling time : 46 ms negative samples : 875482\n",
      "negative Sampling time : 48 ms\n"
     ]
    },
    {
     "name": "stderr",
     "output_type": "stream",
     "text": [
      "100%|██████████| 91/91 [00:00<00:00, 306.25it/s]\n",
      " 32%|███▏      | 29/91 [00:00<00:00, 288.98it/s]"
     ]
    },
    {
     "name": "stdout",
     "output_type": "stream",
     "text": [
      "Training // Epoch 3 //  Total cost = 33.82241 negative Sampling time : 48 ms negative samples : 875012\n",
      "negative Sampling time : 52 ms\n"
     ]
    },
    {
     "name": "stderr",
     "output_type": "stream",
     "text": [
      "100%|██████████| 91/91 [00:00<00:00, 301.67it/s]\n",
      " 34%|███▍      | 31/91 [00:00<00:00, 309.71it/s]"
     ]
    },
    {
     "name": "stdout",
     "output_type": "stream",
     "text": [
      "Training // Epoch 4 //  Total cost = 32.32905 negative Sampling time : 52 ms negative samples : 875294\n",
      "negative Sampling time : 47 ms\n"
     ]
    },
    {
     "name": "stderr",
     "output_type": "stream",
     "text": [
      "100%|██████████| 91/91 [00:00<00:00, 303.34it/s]\n",
      " 35%|███▌      | 32/91 [00:00<00:00, 317.55it/s]"
     ]
    },
    {
     "name": "stdout",
     "output_type": "stream",
     "text": [
      "Training // Epoch 5 //  Total cost = 31.58264 negative Sampling time : 47 ms negative samples : 875176\n",
      "negative Sampling time : 48 ms\n"
     ]
    },
    {
     "name": "stderr",
     "output_type": "stream",
     "text": [
      "100%|██████████| 91/91 [00:00<00:00, 310.81it/s]\n",
      " 33%|███▎      | 30/91 [00:00<00:00, 292.67it/s]"
     ]
    },
    {
     "name": "stdout",
     "output_type": "stream",
     "text": [
      "Training // Epoch 6 //  Total cost = 30.73810 negative Sampling time : 48 ms negative samples : 875330\n",
      "negative Sampling time : 58 ms\n"
     ]
    },
    {
     "name": "stderr",
     "output_type": "stream",
     "text": [
      "100%|██████████| 91/91 [00:00<00:00, 301.72it/s]\n",
      " 32%|███▏      | 29/91 [00:00<00:00, 284.01it/s]"
     ]
    },
    {
     "name": "stdout",
     "output_type": "stream",
     "text": [
      "Training // Epoch 7 //  Total cost = 29.82649 negative Sampling time : 58 ms negative samples : 875702\n",
      "negative Sampling time : 47 ms\n"
     ]
    },
    {
     "name": "stderr",
     "output_type": "stream",
     "text": [
      "100%|██████████| 91/91 [00:00<00:00, 299.97it/s]\n",
      " 33%|███▎      | 30/91 [00:00<00:00, 294.71it/s]"
     ]
    },
    {
     "name": "stdout",
     "output_type": "stream",
     "text": [
      "Training // Epoch 8 //  Total cost = 28.96999 negative Sampling time : 47 ms negative samples : 875162\n",
      "negative Sampling time : 48 ms\n"
     ]
    },
    {
     "name": "stderr",
     "output_type": "stream",
     "text": [
      "100%|██████████| 91/91 [00:00<00:00, 304.68it/s]\n",
      " 35%|███▌      | 32/91 [00:00<00:00, 313.93it/s]"
     ]
    },
    {
     "name": "stdout",
     "output_type": "stream",
     "text": [
      "Training // Epoch 9 //  Total cost = 28.22944 negative Sampling time : 48 ms negative samples : 875513\n",
      "negative Sampling time : 56 ms\n"
     ]
    },
    {
     "name": "stderr",
     "output_type": "stream",
     "text": [
      "100%|██████████| 91/91 [00:00<00:00, 304.66it/s]\n",
      " 35%|███▌      | 32/91 [00:00<00:00, 310.48it/s]"
     ]
    },
    {
     "name": "stdout",
     "output_type": "stream",
     "text": [
      "Training // Epoch 10 //  Total cost = 27.55815 negative Sampling time : 56 ms negative samples : 875055\n",
      "negative Sampling time : 47 ms\n"
     ]
    },
    {
     "name": "stderr",
     "output_type": "stream",
     "text": [
      "100%|██████████| 91/91 [00:00<00:00, 298.28it/s]\n",
      " 33%|███▎      | 30/91 [00:00<00:00, 296.31it/s]"
     ]
    },
    {
     "name": "stdout",
     "output_type": "stream",
     "text": [
      "Training // Epoch 11 //  Total cost = 26.94974 negative Sampling time : 47 ms negative samples : 875667\n",
      "negative Sampling time : 47 ms\n"
     ]
    },
    {
     "name": "stderr",
     "output_type": "stream",
     "text": [
      "100%|██████████| 91/91 [00:00<00:00, 297.32it/s]\n",
      " 35%|███▌      | 32/91 [00:00<00:00, 310.07it/s]"
     ]
    },
    {
     "name": "stdout",
     "output_type": "stream",
     "text": [
      "Training // Epoch 12 //  Total cost = 26.34808 negative Sampling time : 47 ms negative samples : 875099\n",
      "negative Sampling time : 55 ms\n"
     ]
    },
    {
     "name": "stderr",
     "output_type": "stream",
     "text": [
      "100%|██████████| 91/91 [00:00<00:00, 313.21it/s]\n",
      " 35%|███▌      | 32/91 [00:00<00:00, 316.14it/s]"
     ]
    },
    {
     "name": "stdout",
     "output_type": "stream",
     "text": [
      "Training // Epoch 13 //  Total cost = 25.77243 negative Sampling time : 55 ms negative samples : 875478\n",
      "negative Sampling time : 47 ms\n"
     ]
    },
    {
     "name": "stderr",
     "output_type": "stream",
     "text": [
      "100%|██████████| 91/91 [00:00<00:00, 306.77it/s]\n",
      " 34%|███▍      | 31/91 [00:00<00:00, 307.64it/s]"
     ]
    },
    {
     "name": "stdout",
     "output_type": "stream",
     "text": [
      "Training // Epoch 14 //  Total cost = 25.18745 negative Sampling time : 47 ms negative samples : 875108\n",
      "negative Sampling time : 46 ms\n"
     ]
    },
    {
     "name": "stderr",
     "output_type": "stream",
     "text": [
      "100%|██████████| 91/91 [00:00<00:00, 307.21it/s]\n",
      " 36%|███▋      | 33/91 [00:00<00:00, 321.63it/s]"
     ]
    },
    {
     "name": "stdout",
     "output_type": "stream",
     "text": [
      "Training // Epoch 15 //  Total cost = 24.60292 negative Sampling time : 46 ms negative samples : 875633\n",
      "negative Sampling time : 48 ms\n"
     ]
    },
    {
     "name": "stderr",
     "output_type": "stream",
     "text": [
      "100%|██████████| 91/91 [00:00<00:00, 322.18it/s]\n",
      " 36%|███▋      | 33/91 [00:00<00:00, 321.01it/s]"
     ]
    },
    {
     "name": "stdout",
     "output_type": "stream",
     "text": [
      "Training // Epoch 16 //  Total cost = 24.02544 negative Sampling time : 48 ms negative samples : 875131\n",
      "negative Sampling time : 46 ms\n"
     ]
    },
    {
     "name": "stderr",
     "output_type": "stream",
     "text": [
      "100%|██████████| 91/91 [00:00<00:00, 315.75it/s]\n",
      " 33%|███▎      | 30/91 [00:00<00:00, 295.38it/s]"
     ]
    },
    {
     "name": "stdout",
     "output_type": "stream",
     "text": [
      "Training // Epoch 17 //  Total cost = 23.53790 negative Sampling time : 46 ms negative samples : 875409\n",
      "negative Sampling time : 51 ms\n"
     ]
    },
    {
     "name": "stderr",
     "output_type": "stream",
     "text": [
      "100%|██████████| 91/91 [00:00<00:00, 305.84it/s]\n",
      " 36%|███▋      | 33/91 [00:00<00:00, 319.06it/s]"
     ]
    },
    {
     "name": "stdout",
     "output_type": "stream",
     "text": [
      "Training // Epoch 18 //  Total cost = 22.89766 negative Sampling time : 51 ms negative samples : 875352\n",
      "negative Sampling time : 48 ms\n"
     ]
    },
    {
     "name": "stderr",
     "output_type": "stream",
     "text": [
      "100%|██████████| 91/91 [00:00<00:00, 307.76it/s]\n",
      " 34%|███▍      | 31/91 [00:00<00:00, 300.25it/s]"
     ]
    },
    {
     "name": "stdout",
     "output_type": "stream",
     "text": [
      "Training // Epoch 19 //  Total cost = 22.35877 negative Sampling time : 48 ms negative samples : 875226\n",
      "negative Sampling time : 46 ms\n"
     ]
    },
    {
     "name": "stderr",
     "output_type": "stream",
     "text": [
      "100%|██████████| 91/91 [00:00<00:00, 304.51it/s]\n"
     ]
    },
    {
     "name": "stdout",
     "output_type": "stream",
     "text": [
      "Training // Epoch 20 //  Total cost = 21.77761 negative Sampling time : 46 ms negative samples : 874902\n"
     ]
    }
   ],
   "source": [
    "import sys\n",
    "sys.path.insert(0,'..')\n",
    "import MF_CE\n",
    "import utility\n",
    "import tensorflow as tf\n",
    "\n",
    "item_list = rdf['iid'].unique()\n",
    "user_list = rdf['uid'].unique()\n",
    "num_user = len(user_list)\n",
    "num_item = len(item_list)\n",
    "\n",
    "bs = int((len(rdf) * 6) / 100)\n",
    "\n",
    "with tf.Session() as sess:\n",
    "    mf = MF_CE.MF_CE(sess=sess, train_df=rdf, num_user=num_user, num_item=num_item, bs=bs, epoch=20)\n",
    "    R = mf.run()"
   ]
  },
  {
   "cell_type": "code",
   "execution_count": 27,
   "metadata": {},
   "outputs": [
    {
     "name": "stderr",
     "output_type": "stream",
     "text": [
      "100%|██████████| 1000/1000 [00:10<00:00, 92.76it/s]\n"
     ]
    },
    {
     "data": {
      "text/plain": [
       "0.06572783323546683"
      ]
     },
     "execution_count": 27,
     "metadata": {},
     "output_type": "execute_result"
    }
   ],
   "source": [
    "num_user = len(user_list)\n",
    "num_item = len(item_list)\n",
    "truth = np.zeros((num_user, num_item))\n",
    "for u in tqdm(range(num_user)):\n",
    "    for i in range(num_item):\n",
    "        r = max(R[u, i] - 0.15, 0.01)\n",
    "        tmp = np.random.random()\n",
    "        if tmp <= r:\n",
    "            truth[u, i] = 1.\n",
    "\n",
    "np.sum(truth) * 1.0 / num_user / num_item"
   ]
  },
  {
   "cell_type": "code",
   "execution_count": 28,
   "metadata": {},
   "outputs": [
    {
     "data": {
      "text/plain": [
       "0.6394292941540157"
      ]
     },
     "execution_count": 28,
     "metadata": {},
     "output_type": "execute_result"
    }
   ],
   "source": [
    "audience_size = np.sum(truth, axis=0)\n",
    "AS_sorted = np.sort(audience_size)\n",
    "num_item = len(AS_sorted)\n",
    "np.sum(((np.arange(num_item) + 1.) * 2 - num_item - 1) * AS_sorted) / (num_item * np.sum(AS_sorted))"
   ]
  },
  {
   "cell_type": "code",
   "execution_count": 29,
   "metadata": {},
   "outputs": [
    {
     "data": {
      "image/png": "[encoded data removed]",
      "text/plain": [
       "<Figure size 576x360 with 1 Axes>"
      ]
     },
     "metadata": {},
     "output_type": "display_data"
    }
   ],
   "source": [
    "import matplotlib.pyplot as plt\n",
    "\n",
    "audience_size = np.sum(truth, axis=0)\n",
    "\n",
    "fig, ax = plt.subplots(nrows=1, ncols=1, figsize=(8, 5))\n",
    "ax.plot(range(len(audience_size)), np.sort(audience_size), marker='.', linewidth=1.5, markersize=12)\n",
    "ax.set_ylabel('audience size')\n",
    "ax.set_xlabel('audience size ranking')\n",
    "ax.grid(True)\n",
    "fig.patch.set_facecolor('white')\n",
    "plt.tight_layout()\n",
    "plt.show()"
   ]
  },
  {
   "cell_type": "code",
   "execution_count": 30,
   "metadata": {},
   "outputs": [],
   "source": [
    "user_list, item_list = np.where(truth > 0)\n",
    "truth_df = pd.DataFrame({'uid': user_list, 'iid': item_list})"
   ]
  },
  {
   "cell_type": "code",
   "execution_count": 31,
   "metadata": {},
   "outputs": [
    {
     "data": {
      "text/plain": [
       "[('Drama', 1336),\n",
       " ('Comedy', 1097),\n",
       " ('Action', 479),\n",
       " ('Thriller', 462),\n",
       " ('Romance', 436),\n",
       " ('Horror', 313),\n",
       " ('Adventure', 271),\n",
       " ('Sci-Fi', 265),\n",
       " (\"Children's\", 247),\n",
       " ('Crime', 191),\n",
       " ('War', 139),\n",
       " ('Musical', 108),\n",
       " ('Animation', 105),\n",
       " ('Mystery', 102),\n",
       " ('Documentary', 86),\n",
       " ('Fantasy', 67),\n",
       " ('Western', 62),\n",
       " ('Film-Noir', 41)]"
      ]
     },
     "execution_count": 31,
     "metadata": {},
     "output_type": "execute_result"
    }
   ],
   "source": [
    "# count the number for each genre and sort\n",
    "item_genre_dict = dict()\n",
    "for i in range(len(item_df)):\n",
    "    genre_str = item_df.at[i, 'genres']\n",
    "    genre_list = genre_str.split('|')\n",
    "    genre_overlap = set(genre_list).intersection(genres_used)\n",
    "    item_genre_dict[item_df.at[i, 'iid']] = list(genre_overlap)\n",
    "\n",
    "genre_item_count = dict()\n",
    "for l in item_genre_dict:\n",
    "    for g in item_genre_dict[l]:\n",
    "        if not g in genre_item_count:\n",
    "            genre_item_count[g] = 1\n",
    "        else:\n",
    "            genre_item_count[g] += 1\n",
    "\n",
    "genre_count_sorted = sorted(genre_item_count.items(), key=operator.itemgetter(1), reverse=True)\n",
    "genre_count_sorted"
   ]
  },
  {
   "cell_type": "code",
   "execution_count": 32,
   "metadata": {},
   "outputs": [
    {
     "data": {
      "text/plain": [
       "[('Sci-Fi', 140.8377358490566),\n",
       " ('Action', 121.8893528183716),\n",
       " ('Fantasy', 120.7910447761194),\n",
       " ('War', 114.19424460431655),\n",
       " ('Film-Noir', 111.70731707317073),\n",
       " ('Adventure', 110.49077490774907),\n",
       " ('Animation', 101.88571428571429),\n",
       " ('Crime', 96.75392670157068),\n",
       " ('Thriller', 96.57142857142857),\n",
       " ('Mystery', 88.6078431372549),\n",
       " ('Musical', 85.16666666666667),\n",
       " ('Romance', 75.36238532110092),\n",
       " ('Western', 73.56451612903226),\n",
       " ('Comedy', 70.06836827711942),\n",
       " (\"Children's\", 65.85425101214575),\n",
       " ('Drama', 60.6190119760479),\n",
       " ('Horror', 54.150159744408946),\n",
       " ('Documentary', 21.61627906976744)]"
      ]
     },
     "execution_count": 32,
     "metadata": {},
     "output_type": "execute_result"
    }
   ],
   "source": [
    "# calculate feedback/item_count for each genre\n",
    "genre_rating_count = dict()\n",
    "itemIds = truth_df['iid'].values\n",
    "for i in range(len(itemIds)):\n",
    "    itemId = itemIds[i]\n",
    "    genres = item_genre_dict[itemId]\n",
    "    for g in genres:\n",
    "        if not g in genre_rating_count:\n",
    "            genre_rating_count[g] = 1\n",
    "        else:\n",
    "            genre_rating_count[g] += 1\n",
    "for g in genre_item_count:\n",
    "    genre_rating_count[g] /= genre_item_count[g] * 1.\n",
    "genre_count_sorted = sorted(genre_rating_count.items(), key=operator.itemgetter(1), reverse=True)\n",
    "genre_count_sorted"
   ]
  },
  {
   "cell_type": "code",
   "execution_count": 33,
   "metadata": {},
   "outputs": [],
   "source": [
    "np.save('./truth.npy', truth)"
   ]
  },
  {
   "cell_type": "code",
   "execution_count": 34,
   "metadata": {},
   "outputs": [],
   "source": [
    "item_df.reset_index(drop=True, inplace=True)\n",
    "item_df.to_csv('./item_df.csv', index=False)"
   ]
  },
  {
   "cell_type": "code",
   "execution_count": 35,
   "metadata": {},
   "outputs": [],
   "source": [
    "with open('./item_genre_dict.pkl', 'wb') as f:\n",
    "    pickle.dump(item_genre_dict, f)"
   ]
  },
  {
   "cell_type": "code",
   "execution_count": 36,
   "metadata": {},
   "outputs": [
    {
     "name": "stderr",
     "output_type": "stream",
     "text": [
      "100%|██████████| 223869/223869 [00:01<00:00, 153444.60it/s]\n",
      "/home/zhuziwei/.local/lib/python3.6/site-packages/ipykernel_launcher.py:13: VisibleDeprecationWarning: Creating an ndarray from ragged nested sequences (which is a list-or-tuple of lists-or-tuples-or ndarrays with different lengths or shapes) is deprecated. If you meant to do this, you must specify 'dtype=object' when creating the ndarray\n",
      "  del sys.path[0]\n"
     ]
    }
   ],
   "source": [
    "# generate list of items users like in train, warm_vali, warm_test sets for each user\n",
    "\n",
    "num_item = len(item_list)\n",
    "num_user = len(user_list)\n",
    "\n",
    "user_truth_like = [[] for _ in range(num_user)]\n",
    "\n",
    "for u in tqdm(user_list):\n",
    "    truth_u = truth[u, :]\n",
    "    truth_u_like = (np.where(truth_u > 0)[0]).astype(int)    \n",
    "    user_truth_like[u] = truth_u_like\n",
    "    \n",
    "np.save('./user_truth_like.npy', np.array(user_truth_like))"
   ]
  },
  {
   "cell_type": "code",
   "execution_count": 37,
   "metadata": {},
   "outputs": [
    {
     "data": {
      "text/plain": [
       "0.6394292941540157"
      ]
     },
     "execution_count": 37,
     "metadata": {},
     "output_type": "execute_result"
    }
   ],
   "source": [
    "audience_size = np.sum(truth, axis=0)\n",
    "\n",
    "AS_sorted = np.sort(audience_size)\n",
    "num_item = len(AS_sorted)\n",
    "np.sum(((np.arange(num_item) + 1.) * 2 - num_item - 1) * AS_sorted) / (num_item * np.sum(AS_sorted))"
   ]
  },
  {
   "cell_type": "code",
   "execution_count": 38,
   "metadata": {},
   "outputs": [
    {
     "data": {
      "image/png": "[encoded data removed]",
      "text/plain": [
       "<Figure size 576x360 with 1 Axes>"
      ]
     },
     "metadata": {},
     "output_type": "display_data"
    }
   ],
   "source": [
    "import matplotlib.pyplot as plt\n",
    "\n",
    "fig, ax = plt.subplots(nrows=1, ncols=1, figsize=(8, 5))\n",
    "ax.plot(range(len(audience_size)), np.sort(audience_size), marker='.', linewidth=1.5, markersize=12)\n",
    "ax.set_ylabel('audience size')\n",
    "ax.set_xlabel('audience size ranking')\n",
    "ax.grid(True)\n",
    "fig.patch.set_facecolor('white')\n",
    "plt.tight_layout()\n",
    "plt.show()"
   ]
  },
  {
   "cell_type": "code",
   "execution_count": 39,
   "metadata": {},
   "outputs": [
    {
     "data": {
      "image/png": "[encoded data removed]",
      "text/plain": [
       "<Figure size 576x360 with 1 Axes>"
      ]
     },
     "metadata": {},
     "output_type": "display_data"
    }
   ],
   "source": [
    "a = np.sum(truth, axis=1)\n",
    "\n",
    "fig, ax = plt.subplots(nrows=1, ncols=1, figsize=(8, 5))\n",
    "ax.plot(range(len(a)), np.sort(a), marker='.', linewidth=1.5, markersize=12)\n",
    "ax.set_ylabel('audience size')\n",
    "ax.set_xlabel('audience size ranking')\n",
    "ax.grid(True)\n",
    "fig.patch.set_facecolor('white')\n",
    "plt.tight_layout()\n",
    "plt.show()"
   ]
  },
  {
   "cell_type": "code",
   "execution_count": null,
   "metadata": {},
   "outputs": [],
   "source": []
  }
 ],
 "metadata": {
  "hide_input": false,
  "kernelspec": {
   "display_name": "Python 3",
   "language": "python",
   "name": "python3"
  },
  "language_info": {
   "codemirror_mode": {
    "name": "ipython",
    "version": 3
   },
   "file_extension": ".py",
   "mimetype": "text/x-python",
   "name": "python",
   "nbconvert_exporter": "python",
   "pygments_lexer": "ipython3",
   "version": "3.7.7"
  }
 },
 "nbformat": 4,
 "nbformat_minor": 4
}
